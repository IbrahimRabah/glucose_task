{
 "cells": [
  {
   "cell_type": "code",
   "execution_count": 1,
   "id": "73c4c57f",
   "metadata": {},
   "outputs": [],
   "source": [
    "import cobra\n",
    "from cobra import Model,Reaction,Metabolite\n",
    "model_2 = Model('model_2')\n",
    "\n",
    "# first reaction -----> glc\n",
    "Reaction_0 = Reaction('Reaction_0')\n",
    "Reaction_0.name = 'Reaction_0'\n",
    "Reaction_0.lower_bound = 1\n",
    "Reaction_0.upper_bound = 1\n",
    "\n",
    "# second reaction glc to AA glc -----> AA\n",
    "Reaction_1 = Reaction('Reaction_1')\n",
    "Reaction_1.name='Reaction_1'\n",
    "Reaction_1.lower_bound = 0\n",
    "Reaction_1.upper_bound = 1000\n",
    "\n",
    "# third reaction from AA to Biomass  AA -----> Biomass\n",
    "Reaction_2 = Reaction('Reaction_2')\n",
    "Reaction_2.name = 'Reaction_2'\n",
    "Reaction_2.lower_bound = 0\n",
    "Reaction_2.upper_bound = 1000\n",
    "\n",
    "#forth reaction Biomass ----->\n",
    "M = Reaction('M')\n",
    "M.name = 'M'\n",
    "M.lower_bound = 0\n",
    "M.upper_bound = 1000\n",
    "\n",
    "glc = Metabolite('glc',compartment='c')\n",
    "AA = Metabolite('AA',compartment='c')\n",
    "Biomass = Metabolite('Biomass',compartment='c')\n",
    "\n",
    "# Add metabolites in Reaction_0 : glc\n",
    "Reaction_0.add_metabolites({glc:1})\n",
    "\n",
    "# Add metabolites in Reaction_1 :glc -----> AA\n",
    "Reaction_1.add_metabolites({glc:-1,AA:1})\n",
    "\n",
    "# Add metabolites in Reaction_2 :AA -----> Biomass\n",
    "Reaction_2.add_metabolites({AA:-9.09,Biomass:1})\n",
    "\n",
    "# Add metabolites in M : Biomass -----> \n",
    "M.add_metabolites({Biomass:-1})\n",
    "\n",
    "model_2.add_reactions([Reaction_0,Reaction_1,Reaction_2,M])\n",
    "\n",
    "# make M as an objective function \n",
    "model_2.objective='M'"
   ]
  },
  {
   "cell_type": "code",
   "execution_count": 2,
   "id": "efb54265",
   "metadata": {},
   "outputs": [
    {
     "data": {
      "text/html": [
       "<strong><em>Optimal</em> solution with objective value 0.110</strong><br><div>\n",
       "<style scoped>\n",
       "    .dataframe tbody tr th:only-of-type {\n",
       "        vertical-align: middle;\n",
       "    }\n",
       "\n",
       "    .dataframe tbody tr th {\n",
       "        vertical-align: top;\n",
       "    }\n",
       "\n",
       "    .dataframe thead th {\n",
       "        text-align: right;\n",
       "    }\n",
       "</style>\n",
       "<table border=\"1\" class=\"dataframe\">\n",
       "  <thead>\n",
       "    <tr style=\"text-align: right;\">\n",
       "      <th></th>\n",
       "      <th>fluxes</th>\n",
       "      <th>reduced_costs</th>\n",
       "    </tr>\n",
       "  </thead>\n",
       "  <tbody>\n",
       "    <tr>\n",
       "      <th>Reaction_0</th>\n",
       "      <td>1.000000</td>\n",
       "      <td>0.220022</td>\n",
       "    </tr>\n",
       "    <tr>\n",
       "      <th>Reaction_1</th>\n",
       "      <td>1.000000</td>\n",
       "      <td>0.000000</td>\n",
       "    </tr>\n",
       "    <tr>\n",
       "      <th>Reaction_2</th>\n",
       "      <td>0.110011</td>\n",
       "      <td>0.000000</td>\n",
       "    </tr>\n",
       "    <tr>\n",
       "      <th>M</th>\n",
       "      <td>0.110011</td>\n",
       "      <td>0.000000</td>\n",
       "    </tr>\n",
       "  </tbody>\n",
       "</table>\n",
       "</div>"
      ],
      "text/plain": [
       "<Solution 0.110 at 0x1c09c59ab20>"
      ]
     },
     "execution_count": 2,
     "metadata": {},
     "output_type": "execute_result"
    }
   ],
   "source": [
    "model_2.optimize()"
   ]
  },
  {
   "cell_type": "code",
   "execution_count": 3,
   "id": "df46fb29",
   "metadata": {},
   "outputs": [
    {
     "data": {
      "text/html": [
       "<h3>Objective</h3><p>1.0 M = 0.11001100110011001</p><h4>Uptake</h4><table border=\"1\" class=\"dataframe\">\n",
       "  <thead>\n",
       "    <tr style=\"text-align: right;\">\n",
       "      <th>Metabolite</th>\n",
       "      <th>Reaction</th>\n",
       "      <th>Flux</th>\n",
       "      <th>C-Number</th>\n",
       "      <th>C-Flux</th>\n",
       "    </tr>\n",
       "  </thead>\n",
       "  <tbody>\n",
       "    <tr>\n",
       "      <td>glc</td>\n",
       "      <td>Reaction_0</td>\n",
       "      <td>1</td>\n",
       "      <td>0</td>\n",
       "      <td>0.00%</td>\n",
       "    </tr>\n",
       "  </tbody>\n",
       "</table><h4>Secretion</h4><table border=\"1\" class=\"dataframe\">\n",
       "  <thead>\n",
       "    <tr style=\"text-align: right;\">\n",
       "      <th>Metabolite</th>\n",
       "      <th>Reaction</th>\n",
       "      <th>Flux</th>\n",
       "      <th>C-Number</th>\n",
       "      <th>C-Flux</th>\n",
       "    </tr>\n",
       "  </thead>\n",
       "  <tbody>\n",
       "    <tr>\n",
       "      <td>Biomass</td>\n",
       "      <td>M</td>\n",
       "      <td>-0.11</td>\n",
       "      <td>0</td>\n",
       "      <td>0.00%</td>\n",
       "    </tr>\n",
       "  </tbody>\n",
       "</table>"
      ],
      "text/plain": [
       "<cobra.summary.model_summary.ModelSummary at 0x1c09c5d7280>"
      ]
     },
     "execution_count": 3,
     "metadata": {},
     "output_type": "execute_result"
    }
   ],
   "source": [
    "model_2.summary()"
   ]
  },
  {
   "cell_type": "code",
   "execution_count": 4,
   "id": "b159376d",
   "metadata": {},
   "outputs": [],
   "source": [
    "cobra.io.save_json_model(model_2,\"test2.json\")"
   ]
  },
  {
   "cell_type": "code",
   "execution_count": 5,
   "id": "9234327a",
   "metadata": {},
   "outputs": [],
   "source": [
    "import escher\n",
    "from escher import Builder"
   ]
  },
  {
   "cell_type": "code",
   "execution_count": 6,
   "id": "c35efac5",
   "metadata": {},
   "outputs": [
    {
     "data": {
      "application/vnd.jupyter.widget-view+json": {
       "model_id": "2847b5492fef4dfe819cc9ae7986e99d",
       "version_major": 2,
       "version_minor": 0
      },
      "text/plain": [
       "Builder()"
      ]
     },
     "metadata": {},
     "output_type": "display_data"
    }
   ],
   "source": [
    "builder = Builder()\n",
    "builder"
   ]
  },
  {
   "cell_type": "code",
   "execution_count": null,
   "id": "866e57a2",
   "metadata": {},
   "outputs": [],
   "source": []
  }
 ],
 "metadata": {
  "kernelspec": {
   "display_name": "Python 3 (ipykernel)",
   "language": "python",
   "name": "python3"
  },
  "language_info": {
   "codemirror_mode": {
    "name": "ipython",
    "version": 3
   },
   "file_extension": ".py",
   "mimetype": "text/x-python",
   "name": "python",
   "nbconvert_exporter": "python",
   "pygments_lexer": "ipython3",
   "version": "3.9.7"
  }
 },
 "nbformat": 4,
 "nbformat_minor": 5
}
